{
  "cells": [
    {
      "cell_type": "markdown",
      "metadata": {
        "id": "5vUbBvinu8zW"
      },
      "source": [
        "#Импорт библиотек"
      ]
    },
    {
      "cell_type": "code",
      "execution_count": 17,
      "metadata": {
        "id": "4JsejDm3uxTS"
      },
      "outputs": [],
      "source": [
        "import tensorflow as tf\n",
        "import matplotlib.pyplot as plt\n",
        "import pathlib\n",
        "\n",
        "# директория обучения\n",
        "train_dir = pathlib.Path(\"datasets/train/\")\n",
        "# директория тестирования\n",
        "test_dir = pathlib.Path(\"datasets/test/\")\n",
        "# директория валидации\n",
        "val_dir = pathlib.Path(\"datasets/validation/\")"
      ]
    },
    {
      "cell_type": "markdown",
      "metadata": {
        "id": "i2w52yYrvTu9"
      },
      "source": [
        "#Подготовка данных для модели"
      ]
    },
    {
      "cell_type": "code",
      "execution_count": 18,
      "metadata": {
        "colab": {
          "base_uri": "https://localhost:8080/"
        },
        "id": "Kjoa0oUHvQAv",
        "outputId": "35053f0d-5fd0-4b98-cd8f-fa0a88a79e8f"
      },
      "outputs": [
        {
          "name": "stdout",
          "output_type": "stream",
          "text": [
            "Found 3115 files belonging to 36 classes.\n"
          ]
        }
      ],
      "source": [
        "training_set = tf.keras.utils.image_dataset_from_directory(\n",
        "    train_dir,\n",
        "    labels=\"inferred\",\n",
        "    label_mode=\"categorical\",\n",
        "    class_names=None,\n",
        "    color_mode=\"rgb\",\n",
        "    batch_size=32,\n",
        "    image_size=(64, 64),\n",
        "    shuffle=True,\n",
        "    seed=None,\n",
        "    validation_split=None,\n",
        "    subset=None,\n",
        "    interpolation=\"bilinear\",\n",
        "    follow_links=False,\n",
        "    crop_to_aspect_ratio=False\n",
        ")"
      ]
    },
    {
      "cell_type": "code",
      "execution_count": 19,
      "metadata": {
        "colab": {
          "base_uri": "https://localhost:8080/"
        },
        "id": "Tocls4IowkNB",
        "outputId": "3b0d8b3d-8552-4e0f-c1f2-7c9f7e28a944"
      },
      "outputs": [
        {
          "name": "stdout",
          "output_type": "stream",
          "text": [
            "Found 351 files belonging to 36 classes.\n"
          ]
        }
      ],
      "source": [
        "validation_set = tf.keras.utils.image_dataset_from_directory(\n",
        "    val_dir,\n",
        "    labels=\"inferred\",\n",
        "    label_mode=\"categorical\",\n",
        "    class_names=None,\n",
        "    color_mode=\"rgb\",\n",
        "    batch_size=32,\n",
        "    image_size=(64, 64),\n",
        "    shuffle=True,\n",
        "    seed=None,\n",
        "    validation_split=None,\n",
        "    subset=None,\n",
        "    interpolation=\"bilinear\",\n",
        "    follow_links=False,\n",
        "    crop_to_aspect_ratio=False\n",
        ")"
      ]
    },
    {
      "cell_type": "markdown",
      "metadata": {
        "id": "OQ_TcbD7r2Cw"
      },
      "source": [
        "#Построение модели"
      ]
    },
    {
      "cell_type": "code",
      "execution_count": 20,
      "metadata": {
        "id": "cUMiJrPvsBTU"
      },
      "outputs": [],
      "source": [
        "cnn = tf.keras.models.Sequential()"
      ]
    },
    {
      "cell_type": "markdown",
      "metadata": {
        "id": "mgFWYq7ssLkV"
      },
      "source": [
        "##Добавление слоев для обучения модели"
      ]
    },
    {
      "cell_type": "code",
      "execution_count": 21,
      "metadata": {
        "id": "LoaODWuZrHFg"
      },
      "outputs": [],
      "source": [
        "cnn.add(tf.keras.layers.Conv2D(filters=32,kernel_size=3,padding='same',activation='relu',input_shape=[64,64,3]))\n",
        "cnn.add(tf.keras.layers.Conv2D(filters=32,kernel_size=3,activation='relu'))\n",
        "cnn.add(tf.keras.layers.MaxPool2D(pool_size=2,strides=2))\n",
        "cnn.add(tf.keras.layers.Dropout(0.25))\n",
        "cnn.add(tf.keras.layers.Conv2D(filters=64,kernel_size=3,padding='same',activation='relu'))\n",
        "cnn.add(tf.keras.layers.Conv2D(filters=64,kernel_size=3,activation='relu'))\n",
        "cnn.add(tf.keras.layers.MaxPool2D(pool_size=2,strides=2))\n",
        "cnn.add(tf.keras.layers.Dropout(0.25))\n",
        "cnn.add(tf.keras.layers.Flatten())\n",
        "cnn.add(tf.keras.layers.Dense(units=512,activation='relu'))\n",
        "cnn.add(tf.keras.layers.Dense(units=256,activation='relu'))\n",
        "cnn.add(tf.keras.layers.Dropout(0.5))\n",
        "cnn.add(tf.keras.layers.Dense(units=36,activation='softmax'))"
      ]
    },
    {
      "cell_type": "markdown",
      "metadata": {
        "id": "sYYdAFZDvt1P"
      },
      "source": [
        "#Обучение"
      ]
    },
    {
      "cell_type": "code",
      "execution_count": 22,
      "metadata": {
        "id": "yAcyiEfVvVzw"
      },
      "outputs": [
        {
          "name": "stdout",
          "output_type": "stream",
          "text": [
            "Model: \"sequential_1\"\n",
            "_________________________________________________________________\n",
            " Layer (type)                Output Shape              Param #   \n",
            "=================================================================\n",
            " conv2d_4 (Conv2D)           (None, 64, 64, 32)        896       \n",
            "                                                                 \n",
            " conv2d_5 (Conv2D)           (None, 62, 62, 32)        9248      \n",
            "                                                                 \n",
            " max_pooling2d_2 (MaxPoolin  (None, 31, 31, 32)        0         \n",
            " g2D)                                                            \n",
            "                                                                 \n",
            " dropout_3 (Dropout)         (None, 31, 31, 32)        0         \n",
            "                                                                 \n",
            " conv2d_6 (Conv2D)           (None, 31, 31, 64)        18496     \n",
            "                                                                 \n",
            " conv2d_7 (Conv2D)           (None, 29, 29, 64)        36928     \n",
            "                                                                 \n",
            " max_pooling2d_3 (MaxPoolin  (None, 14, 14, 64)        0         \n",
            " g2D)                                                            \n",
            "                                                                 \n",
            " dropout_4 (Dropout)         (None, 14, 14, 64)        0         \n",
            "                                                                 \n",
            " flatten_1 (Flatten)         (None, 12544)             0         \n",
            "                                                                 \n",
            " dense_3 (Dense)             (None, 512)               6423040   \n",
            "                                                                 \n",
            " dense_4 (Dense)             (None, 256)               131328    \n",
            "                                                                 \n",
            " dropout_5 (Dropout)         (None, 256)               0         \n",
            "                                                                 \n",
            " dense_5 (Dense)             (None, 36)                9252      \n",
            "                                                                 \n",
            "=================================================================\n",
            "Total params: 6629188 (25.29 MB)\n",
            "Trainable params: 6629188 (25.29 MB)\n",
            "Non-trainable params: 0 (0.00 Byte)\n",
            "_________________________________________________________________\n"
          ]
        }
      ],
      "source": [
        "cnn.compile(optimizer='adam',loss='categorical_crossentropy',metrics=['accuracy'])\n",
        "cnn.summary()"
      ]
    },
    {
      "cell_type": "code",
      "execution_count": 23,
      "metadata": {
        "colab": {
          "base_uri": "https://localhost:8080/"
        },
        "id": "K3W4dNUrvxIw",
        "outputId": "c4d220dc-40d6-438e-b940-751b3e85b037"
      },
      "outputs": [
        {
          "name": "stdout",
          "output_type": "stream",
          "text": [
            "Epoch 1/32\n"
          ]
        },
        {
          "name": "stdout",
          "output_type": "stream",
          "text": [
            "98/98 [==============================] - 83s 776ms/step - loss: 5.6998 - accuracy: 0.0340 - val_loss: 3.5104 - val_accuracy: 0.0627\n",
            "Epoch 2/32\n",
            "98/98 [==============================] - 74s 711ms/step - loss: 3.4967 - accuracy: 0.0539 - val_loss: 3.3891 - val_accuracy: 0.0883\n",
            "Epoch 3/32\n",
            "98/98 [==============================] - 74s 709ms/step - loss: 3.3136 - accuracy: 0.0844 - val_loss: 2.9495 - val_accuracy: 0.2707\n",
            "Epoch 4/32\n",
            "98/98 [==============================] - 74s 705ms/step - loss: 3.0821 - accuracy: 0.1371 - val_loss: 2.4489 - val_accuracy: 0.4558\n",
            "Epoch 5/32\n",
            "98/98 [==============================] - 74s 713ms/step - loss: 2.7607 - accuracy: 0.2196 - val_loss: 1.9673 - val_accuracy: 0.5755\n",
            "Epoch 6/32\n",
            "98/98 [==============================] - 84s 800ms/step - loss: 2.5066 - accuracy: 0.2876 - val_loss: 1.7224 - val_accuracy: 0.5812\n",
            "Epoch 7/32\n",
            "98/98 [==============================] - 86s 822ms/step - loss: 2.2096 - accuracy: 0.3615 - val_loss: 1.1837 - val_accuracy: 0.7721\n",
            "Epoch 8/32\n",
            "98/98 [==============================] - 82s 791ms/step - loss: 1.7740 - accuracy: 0.4880 - val_loss: 0.8751 - val_accuracy: 0.8519\n",
            "Epoch 9/32\n",
            "98/98 [==============================] - 79s 755ms/step - loss: 1.4487 - accuracy: 0.5628 - val_loss: 0.7512 - val_accuracy: 0.8604\n",
            "Epoch 10/32\n",
            "98/98 [==============================] - 73s 702ms/step - loss: 1.2149 - accuracy: 0.6475 - val_loss: 0.5460 - val_accuracy: 0.9202\n",
            "Epoch 11/32\n",
            "98/98 [==============================] - 79s 755ms/step - loss: 0.9657 - accuracy: 0.7156 - val_loss: 0.4277 - val_accuracy: 0.9402\n",
            "Epoch 12/32\n",
            "98/98 [==============================] - 77s 740ms/step - loss: 0.7823 - accuracy: 0.7746 - val_loss: 0.3643 - val_accuracy: 0.9316\n",
            "Epoch 13/32\n",
            "98/98 [==============================] - 79s 764ms/step - loss: 0.6788 - accuracy: 0.7958 - val_loss: 0.3919 - val_accuracy: 0.9288\n",
            "Epoch 14/32\n",
            "98/98 [==============================] - 78s 736ms/step - loss: 0.6112 - accuracy: 0.8209 - val_loss: 0.3271 - val_accuracy: 0.9402\n",
            "Epoch 15/32\n",
            "98/98 [==============================] - 84s 808ms/step - loss: 0.5011 - accuracy: 0.8514 - val_loss: 0.3353 - val_accuracy: 0.9402\n",
            "Epoch 16/32\n",
            "98/98 [==============================] - 88s 840ms/step - loss: 0.4192 - accuracy: 0.8799 - val_loss: 0.3639 - val_accuracy: 0.9487\n",
            "Epoch 17/32\n",
            "98/98 [==============================] - 87s 831ms/step - loss: 0.3925 - accuracy: 0.8857 - val_loss: 0.3203 - val_accuracy: 0.9487\n",
            "Epoch 18/32\n",
            "98/98 [==============================] - 85s 809ms/step - loss: 0.3828 - accuracy: 0.8921 - val_loss: 0.3034 - val_accuracy: 0.9430\n",
            "Epoch 19/32\n",
            "98/98 [==============================] - 82s 791ms/step - loss: 0.3473 - accuracy: 0.9037 - val_loss: 0.3622 - val_accuracy: 0.9573\n",
            "Epoch 20/32\n",
            "98/98 [==============================] - 83s 793ms/step - loss: 0.2943 - accuracy: 0.9162 - val_loss: 0.3770 - val_accuracy: 0.9516\n",
            "Epoch 21/32\n",
            "98/98 [==============================] - 81s 780ms/step - loss: 0.2796 - accuracy: 0.9197 - val_loss: 0.3588 - val_accuracy: 0.9487\n",
            "Epoch 22/32\n",
            "98/98 [==============================] - 91s 880ms/step - loss: 0.2405 - accuracy: 0.9284 - val_loss: 0.3037 - val_accuracy: 0.9601\n",
            "Epoch 23/32\n",
            "98/98 [==============================] - 93s 890ms/step - loss: 0.3020 - accuracy: 0.9079 - val_loss: 0.3243 - val_accuracy: 0.9601\n",
            "Epoch 24/32\n",
            "98/98 [==============================] - 93s 888ms/step - loss: 0.2825 - accuracy: 0.9217 - val_loss: 0.3057 - val_accuracy: 0.9459\n",
            "Epoch 25/32\n",
            "98/98 [==============================] - 86s 812ms/step - loss: 0.2358 - accuracy: 0.9332 - val_loss: 0.3107 - val_accuracy: 0.9402\n",
            "Epoch 26/32\n",
            "98/98 [==============================] - 73s 699ms/step - loss: 0.2711 - accuracy: 0.9213 - val_loss: 0.2881 - val_accuracy: 0.9573\n",
            "Epoch 27/32\n",
            "98/98 [==============================] - 73s 697ms/step - loss: 0.1676 - accuracy: 0.9563 - val_loss: 0.3170 - val_accuracy: 0.9516\n",
            "Epoch 28/32\n",
            "98/98 [==============================] - 74s 703ms/step - loss: 0.1988 - accuracy: 0.9451 - val_loss: 0.2715 - val_accuracy: 0.9630\n",
            "Epoch 29/32\n",
            "98/98 [==============================] - 73s 700ms/step - loss: 0.1982 - accuracy: 0.9470 - val_loss: 0.4258 - val_accuracy: 0.9544\n",
            "Epoch 30/32\n",
            "98/98 [==============================] - 70s 670ms/step - loss: 0.2203 - accuracy: 0.9438 - val_loss: 0.2846 - val_accuracy: 0.9573\n",
            "Epoch 31/32\n",
            "98/98 [==============================] - 70s 671ms/step - loss: 0.1855 - accuracy: 0.9499 - val_loss: 0.3110 - val_accuracy: 0.9516\n",
            "Epoch 32/32\n",
            "98/98 [==============================] - 70s 669ms/step - loss: 0.1993 - accuracy: 0.9435 - val_loss: 0.3687 - val_accuracy: 0.9544\n"
          ]
        }
      ],
      "source": [
        "training_history = cnn.fit(x=training_set,validation_data=validation_set,epochs=32)"
      ]
    },
    {
      "cell_type": "code",
      "execution_count": 24,
      "metadata": {
        "colab": {
          "base_uri": "https://localhost:8080/"
        },
        "id": "iY6o3uxjpgl5",
        "outputId": "372a2b25-5cdd-47c0-da77-1e9a5ee84f6c"
      },
      "outputs": [
        {
          "name": "stdout",
          "output_type": "stream",
          "text": [
            "98/98 [==============================] - 46s 423ms/step - loss: 0.0329 - accuracy: 0.9917\n",
            "Точность на тренировочных данных: 0.9916532635688782\n"
          ]
        }
      ],
      "source": [
        "#Точность тренировочных данных\n",
        "train_loss, train_acc = cnn.evaluate(training_set)\n",
        "print('Точность на тренировочных данных:', train_acc)"
      ]
    },
    {
      "cell_type": "code",
      "execution_count": 25,
      "metadata": {
        "colab": {
          "base_uri": "https://localhost:8080/"
        },
        "id": "5SaQgd7bpgwl",
        "outputId": "0e82ce04-bdf8-4b31-bc00-cbb7198df7e7"
      },
      "outputs": [
        {
          "name": "stdout",
          "output_type": "stream",
          "text": [
            "11/11 [==============================] - 7s 188ms/step - loss: 0.3687 - accuracy: 0.9544\n",
            "Точность на данных валидации: 0.9544159770011902\n"
          ]
        }
      ],
      "source": [
        "#Точность данных валидации\n",
        "val_loss, val_acc = cnn.evaluate(validation_set)\n",
        "print('Точность на данных валидации:', val_acc)"
      ]
    },
    {
      "cell_type": "markdown",
      "metadata": {
        "id": "Qxp0xsjVBGec"
      },
      "source": [
        "##Сохранение модели"
      ]
    },
    {
      "cell_type": "code",
      "execution_count": 26,
      "metadata": {
        "id": "EEUrBzCrxKt_"
      },
      "outputs": [
        {
          "name": "stderr",
          "output_type": "stream",
          "text": [
            "d:\\repos\\vegetables_recognizer\\venv\\lib\\site-packages\\keras\\src\\engine\\training.py:3079: UserWarning: You are saving your model as an HDF5 file via `model.save()`. This file format is considered legacy. We recommend using instead the native Keras format, e.g. `model.save('my_model.keras')`.\n",
            "  saving_api.save_model(\n"
          ]
        }
      ],
      "source": [
        "cnn.save('trained_model.h5')"
      ]
    },
    {
      "cell_type": "markdown",
      "metadata": {
        "id": "qNIMPXKFEZ5B"
      },
      "source": [
        "#Визуализации точности"
      ]
    },
    {
      "cell_type": "code",
      "execution_count": 27,
      "metadata": {
        "colab": {
          "base_uri": "https://localhost:8080/",
          "height": 295
        },
        "id": "gfKdieuJCt3m",
        "outputId": "00c39bea-d59d-48bd-a9bb-f819e1313252"
      },
      "outputs": [
        {
          "data": {
            "image/png": "[encoded data removed]",
            "text/plain": [
              "<Figure size 640x480 with 1 Axes>"
            ]
          },
          "metadata": {},
          "output_type": "display_data"
        }
      ],
      "source": [
        "epochs = [i for i in range(1,33)]\n",
        "plt.plot(epochs,training_history.history['accuracy'],color='red')\n",
        "plt.xlabel('№ эпохи')\n",
        "plt.ylabel('Точность')\n",
        "plt.title('Точность на тренировочных данных')\n",
        "plt.show()"
      ]
    },
    {
      "cell_type": "code",
      "execution_count": 28,
      "metadata": {
        "colab": {
          "base_uri": "https://localhost:8080/",
          "height": 295
        },
        "id": "ZXyC9WAJEs-B",
        "outputId": "a7d14eba-7481-4b55-c7bb-a0e3821ee77e"
      },
      "outputs": [
        {
          "data": {
            "image/png": "[encoded data removed]",
            "text/plain": [
              "<Figure size 640x480 with 1 Axes>"
            ]
          },
          "metadata": {},
          "output_type": "display_data"
        }
      ],
      "source": [
        "plt.plot(epochs,training_history.history['val_accuracy'],color='green')\n",
        "plt.xlabel('№ эпохи')\n",
        "plt.ylabel('Точность')\n",
        "plt.title('Точность на данных валидации')\n",
        "plt.show()"
      ]
    },
    {
      "cell_type": "markdown",
      "metadata": {
        "id": "IJfYwGbmASaL"
      },
      "source": [
        "#Точность на тестовых данных"
      ]
    },
    {
      "cell_type": "code",
      "execution_count": 29,
      "metadata": {
        "colab": {
          "base_uri": "https://localhost:8080/"
        },
        "id": "fGs_0S4AAUj_",
        "outputId": "6e85b3b3-0784-47c9-8001-f1d5213cdfd6"
      },
      "outputs": [
        {
          "name": "stdout",
          "output_type": "stream",
          "text": [
            "Found 359 files belonging to 36 classes.\n"
          ]
        }
      ],
      "source": [
        "test_set = tf.keras.utils.image_dataset_from_directory(\n",
        "    test_dir,\n",
        "    labels=\"inferred\",\n",
        "    label_mode=\"categorical\",\n",
        "    class_names=None,\n",
        "    color_mode=\"rgb\",\n",
        "    batch_size=32,\n",
        "    image_size=(64, 64),\n",
        "    shuffle=True,\n",
        "    seed=None,\n",
        "    validation_split=None,\n",
        "    subset=None,\n",
        "    interpolation=\"bilinear\",\n",
        "    follow_links=False,\n",
        "    crop_to_aspect_ratio=False\n",
        ")"
      ]
    },
    {
      "cell_type": "code",
      "execution_count": 31,
      "metadata": {
        "colab": {
          "base_uri": "https://localhost:8080/"
        },
        "id": "GdMcF4vnAYuM",
        "outputId": "773cc9ab-c1e7-4a0b-ecf0-ee0e1ee50efc"
      },
      "outputs": [
        {
          "name": "stdout",
          "output_type": "stream",
          "text": [
            "12/12 [==============================] - 8s 143ms/step - loss: 0.3605 - accuracy: 0.9554\n",
            "Точность тестовых данных: 0.9554317593574524\n"
          ]
        }
      ],
      "source": [
        "test_loss,test_acc = cnn.evaluate(test_set)\n",
        "print('Точность тестовых данных:', test_acc)"
      ]
    }
  ],
  "metadata": {
    "colab": {
      "provenance": []
    },
    "kernelspec": {
      "display_name": "Python 3",
      "name": "python3"
    },
    "language_info": {
      "codemirror_mode": {
        "name": "ipython",
        "version": 3
      },
      "file_extension": ".py",
      "mimetype": "text/x-python",
      "name": "python",
      "nbconvert_exporter": "python",
      "pygments_lexer": "ipython3",
      "version": "3.9.4"
    }
  },
  "nbformat": 4,
  "nbformat_minor": 0
}
